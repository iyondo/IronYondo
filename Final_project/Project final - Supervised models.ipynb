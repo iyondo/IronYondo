{
 "cells": [
  {
   "cell_type": "markdown",
   "id": "d18641b0",
   "metadata": {},
   "source": [
    "## SUPERVISED LEARNING MODELS"
   ]
  },
  {
   "cell_type": "markdown",
   "id": "1bd69c32",
   "metadata": {},
   "source": [
    "# Import the Librairies"
   ]
  },
  {
   "cell_type": "code",
   "execution_count": 1,
   "id": "d3a2a327",
   "metadata": {},
   "outputs": [],
   "source": [
    "%matplotlib inline\n",
    "import matplotlib.pyplot as plt\n",
    "import seaborn as sns\n",
    "import numpy as np\n",
    "import pandas as pd\n",
    "from sklearn import metrics\n",
    "from sklearn.metrics import accuracy_score, confusion_matrix, roc_auc_score, recall_score, precision_score, auc, RocCurveDisplay\n",
    "from sklearn.metrics import f1_score, classification_report\n",
    "from sklearn.model_selection import train_test_split\n",
    "from sklearn.feature_selection import SelectFromModel\n",
    "from sklearn.ensemble import RandomForestClassifier\n",
    "from sklearn.feature_selection import RFE\n",
    "from sklearn.feature_selection import RFECV\n",
    "from sklearn.ensemble import RandomForestClassifier\n",
    "from sklearn.model_selection import RandomizedSearchCV\n",
    "from sklearn.preprocessing import StandardScaler\n",
    "from sklearn.ensemble import ExtraTreesClassifier\n",
    "from sklearn.svm import SVC\n",
    "\n",
    "\n",
    "\n",
    "import warnings\n",
    "warnings.filterwarnings('ignore')"
   ]
  },
  {
   "cell_type": "markdown",
   "id": "69f3bc24",
   "metadata": {},
   "source": [
    "# Import the data"
   ]
  },
  {
   "cell_type": "code",
   "execution_count": 2,
   "id": "0cae0d76",
   "metadata": {},
   "outputs": [
    {
     "data": {
      "text/html": [
       "<div>\n",
       "<style scoped>\n",
       "    .dataframe tbody tr th:only-of-type {\n",
       "        vertical-align: middle;\n",
       "    }\n",
       "\n",
       "    .dataframe tbody tr th {\n",
       "        vertical-align: top;\n",
       "    }\n",
       "\n",
       "    .dataframe thead th {\n",
       "        text-align: right;\n",
       "    }\n",
       "</style>\n",
       "<table border=\"1\" class=\"dataframe\">\n",
       "  <thead>\n",
       "    <tr style=\"text-align: right;\">\n",
       "      <th></th>\n",
       "      <th>CreditScore</th>\n",
       "      <th>Geography</th>\n",
       "      <th>Gender</th>\n",
       "      <th>Age</th>\n",
       "      <th>Tenure</th>\n",
       "      <th>Balance</th>\n",
       "      <th>NumOfProducts</th>\n",
       "      <th>HasCrCard</th>\n",
       "      <th>IsActiveMember</th>\n",
       "      <th>EstimatedSalary</th>\n",
       "      <th>Target</th>\n",
       "    </tr>\n",
       "  </thead>\n",
       "  <tbody>\n",
       "    <tr>\n",
       "      <th>0</th>\n",
       "      <td>598</td>\n",
       "      <td>1</td>\n",
       "      <td>0</td>\n",
       "      <td>35</td>\n",
       "      <td>2</td>\n",
       "      <td>160025.100</td>\n",
       "      <td>1</td>\n",
       "      <td>0</td>\n",
       "      <td>0</td>\n",
       "      <td>57483.365000</td>\n",
       "      <td>0</td>\n",
       "    </tr>\n",
       "    <tr>\n",
       "      <th>1</th>\n",
       "      <td>642</td>\n",
       "      <td>0</td>\n",
       "      <td>0</td>\n",
       "      <td>39</td>\n",
       "      <td>5</td>\n",
       "      <td>0.000</td>\n",
       "      <td>1</td>\n",
       "      <td>0</td>\n",
       "      <td>0</td>\n",
       "      <td>103662.883500</td>\n",
       "      <td>0</td>\n",
       "    </tr>\n",
       "    <tr>\n",
       "      <th>2</th>\n",
       "      <td>597</td>\n",
       "      <td>1</td>\n",
       "      <td>0</td>\n",
       "      <td>35</td>\n",
       "      <td>3</td>\n",
       "      <td>110420.205</td>\n",
       "      <td>1</td>\n",
       "      <td>0</td>\n",
       "      <td>0</td>\n",
       "      <td>141273.465000</td>\n",
       "      <td>0</td>\n",
       "    </tr>\n",
       "    <tr>\n",
       "      <th>3</th>\n",
       "      <td>651</td>\n",
       "      <td>0</td>\n",
       "      <td>0</td>\n",
       "      <td>38</td>\n",
       "      <td>5</td>\n",
       "      <td>0.000</td>\n",
       "      <td>1</td>\n",
       "      <td>0</td>\n",
       "      <td>0</td>\n",
       "      <td>16007.925789</td>\n",
       "      <td>0</td>\n",
       "    </tr>\n",
       "    <tr>\n",
       "      <th>4</th>\n",
       "      <td>648</td>\n",
       "      <td>0</td>\n",
       "      <td>0</td>\n",
       "      <td>33</td>\n",
       "      <td>9</td>\n",
       "      <td>113145.420</td>\n",
       "      <td>1</td>\n",
       "      <td>1</td>\n",
       "      <td>0</td>\n",
       "      <td>34014.046667</td>\n",
       "      <td>0</td>\n",
       "    </tr>\n",
       "  </tbody>\n",
       "</table>\n",
       "</div>"
      ],
      "text/plain": [
       "   CreditScore  Geography  Gender  Age  Tenure     Balance  NumOfProducts  \\\n",
       "0          598          1       0   35       2  160025.100              1   \n",
       "1          642          0       0   39       5       0.000              1   \n",
       "2          597          1       0   35       3  110420.205              1   \n",
       "3          651          0       0   38       5       0.000              1   \n",
       "4          648          0       0   33       9  113145.420              1   \n",
       "\n",
       "   HasCrCard  IsActiveMember  EstimatedSalary  Target  \n",
       "0          0               0     57483.365000       0  \n",
       "1          0               0    103662.883500       0  \n",
       "2          0               0    141273.465000       0  \n",
       "3          0               0     16007.925789       0  \n",
       "4          1               0     34014.046667       0  "
      ]
     },
     "execution_count": 2,
     "metadata": {},
     "output_type": "execute_result"
    }
   ],
   "source": [
    "data = pd.read_csv(r'C:\\Users\\Ingrid\\Desktop\\DAFT Nov 21\\Projects\\Final project\\churn_encoded.csv')\n",
    "data.head()"
   ]
  },
  {
   "cell_type": "code",
   "execution_count": 3,
   "id": "a7e25e54",
   "metadata": {},
   "outputs": [
    {
     "data": {
      "text/plain": [
       "(4072, 11)"
      ]
     },
     "execution_count": 3,
     "metadata": {},
     "output_type": "execute_result"
    }
   ],
   "source": [
    "data.shape"
   ]
  },
  {
   "cell_type": "code",
   "execution_count": 4,
   "id": "6ffa799c",
   "metadata": {},
   "outputs": [
    {
     "data": {
      "text/plain": [
       "CreditScore          int64\n",
       "Geography            int64\n",
       "Gender               int64\n",
       "Age                  int64\n",
       "Tenure               int64\n",
       "Balance            float64\n",
       "NumOfProducts        int64\n",
       "HasCrCard            int64\n",
       "IsActiveMember       int64\n",
       "EstimatedSalary    float64\n",
       "Target               int64\n",
       "dtype: object"
      ]
     },
     "execution_count": 4,
     "metadata": {},
     "output_type": "execute_result"
    }
   ],
   "source": [
    "data.dtypes"
   ]
  },
  {
   "cell_type": "markdown",
   "id": "d0838b77",
   "metadata": {},
   "source": [
    "We define X and y."
   ]
  },
  {
   "cell_type": "code",
   "execution_count": 5,
   "id": "ca99d299",
   "metadata": {},
   "outputs": [],
   "source": [
    "X= data.drop('Target', axis=1)\n",
    "y=data['Target']"
   ]
  },
  {
   "cell_type": "markdown",
   "id": "a905a8d0",
   "metadata": {},
   "source": [
    "# Features Selection"
   ]
  },
  {
   "cell_type": "markdown",
   "id": "2f802020",
   "metadata": {},
   "source": [
    "1st method: Select from model"
   ]
  },
  {
   "cell_type": "code",
   "execution_count": 6,
   "id": "892418ef",
   "metadata": {},
   "outputs": [],
   "source": [
    "SFM = SelectFromModel(estimator=RandomForestClassifier())\n",
    "s=SFM.fit(X, y)"
   ]
  },
  {
   "cell_type": "code",
   "execution_count": 7,
   "id": "52e7e0f1",
   "metadata": {},
   "outputs": [
    {
     "name": "stdout",
     "output_type": "stream",
     "text": [
      "Number of features: 4\n",
      "Features selected:\n",
      "Index(['CreditScore', 'Age', 'Balance', 'EstimatedSalary'], dtype='object')\n"
     ]
    }
   ],
   "source": [
    "n_features = s.transform(X).shape[1]\n",
    "\n",
    "print(f'Number of features: {n_features}')\n",
    "feature_idx = s.get_support()\n",
    "feature_name = X.columns[feature_idx]\n",
    "print(f'Features selected:\\n{feature_name}') "
   ]
  },
  {
   "cell_type": "markdown",
   "id": "9b49c002",
   "metadata": {},
   "source": [
    "2nd model: RFE"
   ]
  },
  {
   "cell_type": "code",
   "execution_count": 8,
   "id": "9796ca97",
   "metadata": {
    "scrolled": true
   },
   "outputs": [
    {
     "name": "stdout",
     "output_type": "stream",
     "text": [
      "Num Features: 5\n",
      "Selected Features: [ True False False  True  True  True False False False  True]\n",
      "Feature Ranking: [1 4 5 1 1 1 2 3 6 1]\n"
     ]
    }
   ],
   "source": [
    "rfe_selector = RFE(estimator=RandomForestClassifier())\n",
    "m=rfe_selector.fit(X, y)\n",
    "X.columns[m.get_support()]\n",
    "\n",
    "print(\"Num Features: %s\" % (m.n_features_))\n",
    "print(\"Selected Features: %s\" % (m.support_))\n",
    "print(\"Feature Ranking: %s\" % (m.ranking_))"
   ]
  },
  {
   "cell_type": "markdown",
   "id": "c3b704e4",
   "metadata": {},
   "source": [
    "3rd model: RFECV"
   ]
  },
  {
   "cell_type": "code",
   "execution_count": 9,
   "id": "d051e17f",
   "metadata": {},
   "outputs": [],
   "source": [
    "rfecv = RFECV(\n",
    "    estimator=RandomForestClassifier(),\n",
    "    min_features_to_select=2,\n",
    "    step=1,\n",
    "    n_jobs=-1,\n",
    "    verbose=1,\n",
    "    scoring=\"r2\",\n",
    "    cv=5,\n",
    ")\n",
    "\n",
    "m= rfecv.fit(X, y)"
   ]
  },
  {
   "cell_type": "code",
   "execution_count": 10,
   "id": "84de6fe0",
   "metadata": {},
   "outputs": [
    {
     "data": {
      "text/plain": [
       "Index(['CreditScore', 'Geography', 'Gender', 'Age', 'Tenure', 'Balance',\n",
       "       'NumOfProducts', 'HasCrCard', 'IsActiveMember', 'EstimatedSalary'],\n",
       "      dtype='object')"
      ]
     },
     "execution_count": 10,
     "metadata": {},
     "output_type": "execute_result"
    }
   ],
   "source": [
    "X.columns[rfecv.support_]"
   ]
  },
  {
   "cell_type": "markdown",
   "id": "5b845191",
   "metadata": {},
   "source": [
    "Comments: RFE and RFECV suggest to take only 4 or 5 features but RFECV is more accurate so we are going to use all the features."
   ]
  },
  {
   "cell_type": "markdown",
   "id": "5cfed094",
   "metadata": {},
   "source": [
    "# Hyperparameters tuning"
   ]
  },
  {
   "cell_type": "markdown",
   "id": "1722ae4d",
   "metadata": {},
   "source": [
    "We are going to use 3 supervised classification models:\n",
    "- SVC\n",
    "- ExtraTreesClassifier \n",
    "- RandomForestClassifier"
   ]
  },
  {
   "cell_type": "code",
   "execution_count": 11,
   "id": "087ef4e7",
   "metadata": {
    "scrolled": true
   },
   "outputs": [
    {
     "name": "stdout",
     "output_type": "stream",
     "text": [
      "(3257, 10)\n",
      "(3257,)\n",
      "(815, 10)\n",
      "(815,)\n"
     ]
    }
   ],
   "source": [
    "# We test 20% of our dataset\n",
    "x_train, x_test, y_train, y_test = train_test_split(X, y, test_size=0.2, random_state=5)\n",
    "\n",
    "# This function returns 4 variables\n",
    "print(x_train.shape)\n",
    "print(y_train.shape)\n",
    "print(x_test.shape)\n",
    "print(y_test.shape)\n",
    "\n"
   ]
  },
  {
   "cell_type": "markdown",
   "id": "de75f740",
   "metadata": {},
   "source": [
    "Comments: we have 3257 observations in the train data and 815 observations in the test data."
   ]
  },
  {
   "cell_type": "code",
   "execution_count": 12,
   "id": "5850c3c9",
   "metadata": {},
   "outputs": [],
   "source": [
    "# We scale our training data\n",
    "X_stand = StandardScaler().fit_transform(X)"
   ]
  },
  {
   "cell_type": "markdown",
   "id": "b4943f23",
   "metadata": {},
   "source": [
    "Here, we don't use the GridSearch method because it's too long and we need a lot of RAM. We are going use tuse the RandomizedSearch CV."
   ]
  },
  {
   "cell_type": "markdown",
   "id": "f641d306",
   "metadata": {},
   "source": [
    "SVC - GridSearch \n",
    "\n",
    "grid_search = GridSearchCV(SVC(),\n",
    "                           {\"gamma\": ['scale', 'auto'] , \n",
    "                           \"C\": range(5,200,5)},\n",
    "                           cv=5, scoring=\"balanced_accuracy\",verbose=1,n_jobs=-1\n",
    "                           )\n",
    "grid_search.fit(X_stand,y)\n",
    "\n",
    "print(grid_search.best_params_)\n",
    "print(grid_search.best_score_)"
   ]
  },
  {
   "cell_type": "markdown",
   "id": "1050cbe6",
   "metadata": {},
   "source": [
    "SVC - RandomizedSearch"
   ]
  },
  {
   "cell_type": "code",
   "execution_count": 13,
   "id": "5fbf00d0",
   "metadata": {},
   "outputs": [
    {
     "name": "stdout",
     "output_type": "stream",
     "text": [
      "Fitting 5 folds for each of 10 candidates, totalling 50 fits\n"
     ]
    },
    {
     "data": {
      "text/plain": [
       "RandomizedSearchCV(cv=5, estimator=SVC(), n_jobs=-1,\n",
       "                   param_distributions={'C': range(5, 500, 5),\n",
       "                                        'gamma': ['scale', 'auto']},\n",
       "                   scoring='accuracy', verbose=1)"
      ]
     },
     "execution_count": 13,
     "metadata": {},
     "output_type": "execute_result"
    }
   ],
   "source": [
    "rand_search = RandomizedSearchCV(SVC(),\n",
    "                             {\"gamma\": ['scale', 'auto'] , \n",
    "                           \"C\": range(5,500,5)},\n",
    "                           cv=5, scoring=\"accuracy\",verbose=1,n_jobs=-1 #he default 5-fold cross validation\n",
    "                           )\n",
    "rand_search.fit(X_stand,y)"
   ]
  },
  {
   "cell_type": "code",
   "execution_count": 14,
   "id": "2fea2bc2",
   "metadata": {},
   "outputs": [
    {
     "name": "stdout",
     "output_type": "stream",
     "text": [
      "{'gamma': 'scale', 'C': 10}\n",
      "0.8192517447732172\n"
     ]
    }
   ],
   "source": [
    "print(rand_search.best_params_)\n",
    "print(rand_search.best_score_)"
   ]
  },
  {
   "cell_type": "markdown",
   "id": "0b976845",
   "metadata": {},
   "source": [
    "Comments: we have a accuracy of 82%."
   ]
  },
  {
   "cell_type": "markdown",
   "id": "ab851b1e",
   "metadata": {},
   "source": [
    "ExtraTreesClassifier - RandomizedSearch"
   ]
  },
  {
   "cell_type": "code",
   "execution_count": 15,
   "id": "1da1510c",
   "metadata": {},
   "outputs": [
    {
     "name": "stdout",
     "output_type": "stream",
     "text": [
      "Fitting 5 folds for each of 10 candidates, totalling 50 fits\n"
     ]
    },
    {
     "data": {
      "text/plain": [
       "RandomizedSearchCV(cv=5, estimator=ExtraTreesClassifier(), n_jobs=-1,\n",
       "                   param_distributions={'max_depth': array([ 1,  3,  5,  7,  9, 11, 13, 15, 17, 19]),\n",
       "                                        'n_estimators': array([100, 105, 110, 115, 120, 125, 130, 135, 140, 145, 150, 155, 160,\n",
       "       165, 170, 175, 180, 185, 190, 195, 200, 205, 210, 215, 220, 225,\n",
       "       230, 235, 240, 245, 250, 255, 260, 265, 270, 275, 280, 285, 290,\n",
       "       295])},\n",
       "                   scoring='accuracy', verbose=1)"
      ]
     },
     "execution_count": 15,
     "metadata": {},
     "output_type": "execute_result"
    }
   ],
   "source": [
    "rand_search = RandomizedSearchCV(ExtraTreesClassifier(),\n",
    "                           {\n",
    "                              'n_estimators':np.arange(100,300,5),\n",
    "                              'max_depth': np.arange(1,20,2),\n",
    "                            },cv=5, scoring=\"accuracy\",verbose=1,n_jobs=-1\n",
    "                           )\n",
    "rand_search.fit(X_stand,y)"
   ]
  },
  {
   "cell_type": "code",
   "execution_count": 16,
   "id": "b52f15ac",
   "metadata": {},
   "outputs": [
    {
     "name": "stdout",
     "output_type": "stream",
     "text": [
      "{'n_estimators': 225, 'max_depth': 13}\n",
      "0.8280909241645438\n"
     ]
    }
   ],
   "source": [
    "print(rand_search.best_params_)\n",
    "print(rand_search.best_score_)"
   ]
  },
  {
   "cell_type": "markdown",
   "id": "6f34e114",
   "metadata": {},
   "source": [
    "Comments: we have a accuracy of almost 83%. So far ExtraTreesClassifier is the best model to implement."
   ]
  },
  {
   "cell_type": "markdown",
   "id": "3293ba48",
   "metadata": {},
   "source": [
    "RandomForestClassifier - RandomizedSearch"
   ]
  },
  {
   "cell_type": "code",
   "execution_count": 17,
   "id": "076f4d3b",
   "metadata": {},
   "outputs": [
    {
     "name": "stdout",
     "output_type": "stream",
     "text": [
      "Fitting 5 folds for each of 10 candidates, totalling 50 fits\n"
     ]
    },
    {
     "data": {
      "text/plain": [
       "RandomizedSearchCV(cv=5, estimator=RandomForestClassifier(random_state=0),\n",
       "                   n_jobs=-1,\n",
       "                   param_distributions={'n_estimators': array([  5,  10,  15,  20,  25,  30,  35,  40,  45,  50,  55,  60,  65,\n",
       "        70,  75,  80,  85,  90,  95, 100, 105, 110, 115, 120, 125, 130,\n",
       "       135, 140, 145, 150, 155, 160, 165, 170, 175, 180, 185, 190, 195,\n",
       "       200, 205, 210, 215, 220, 225, 230, 235, 240, 245, 250, 255, 260,\n",
       "       265, 270, 275, 280, 285, 290, 295, 300, 305, 310, 315, 320, 325,\n",
       "       330, 335, 340, 345, 350, 355, 360, 365, 370, 375, 380, 385, 390,\n",
       "       395])},\n",
       "                   scoring='accuracy', verbose=1)"
      ]
     },
     "execution_count": 17,
     "metadata": {},
     "output_type": "execute_result"
    }
   ],
   "source": [
    "\n",
    "from sklearn.ensemble import RandomForestClassifier\n",
    "\n",
    "from sklearn.model_selection import RandomizedSearchCV\n",
    "\n",
    "rand_search = RandomizedSearchCV(RandomForestClassifier(random_state=0),\n",
    "                           {\n",
    "                              'n_estimators':np.arange(5,400,5)\n",
    "                            \n",
    "                            },cv=5, scoring=\"accuracy\",verbose=1,n_jobs=-1\n",
    "                           )\n",
    "rand_search.fit(X_stand,y)"
   ]
  },
  {
   "cell_type": "code",
   "execution_count": 18,
   "id": "22511069",
   "metadata": {},
   "outputs": [
    {
     "name": "stdout",
     "output_type": "stream",
     "text": [
      "{'n_estimators': 250}\n",
      "0.8334966310426433\n"
     ]
    }
   ],
   "source": [
    "print(rand_search.best_params_)\n",
    "print(rand_search.best_score_)"
   ]
  },
  {
   "cell_type": "markdown",
   "id": "5dc21068",
   "metadata": {},
   "source": [
    "Comments: we have 250 trees and a accuracy of more than 83%. It's the best model ."
   ]
  },
  {
   "cell_type": "markdown",
   "id": "a9c3ffcc",
   "metadata": {},
   "source": [
    "# Model Testing : RandomForestClassifier"
   ]
  },
  {
   "cell_type": "markdown",
   "id": "620a79b6",
   "metadata": {},
   "source": [
    "Based on the hyperparameter tuning we established that the best parameter is: n_estimators = 250."
   ]
  },
  {
   "cell_type": "code",
   "execution_count": 22,
   "id": "5b7bb7d6",
   "metadata": {},
   "outputs": [
    {
     "name": "stdout",
     "output_type": "stream",
     "text": [
      "(3257, 10)\n",
      "(3257,)\n",
      "(815, 10)\n",
      "(815,)\n"
     ]
    }
   ],
   "source": [
    "# split the data into training and test set\n",
    "X= data.drop('Target', axis=1)\n",
    "y=data['Target']\n",
    "\n",
    "\n",
    "# Split the data into train and test\n",
    "X_train, X_test, y_train, y_test = train_test_split(X, y, test_size=0.2, random_state=5)\n",
    "print(X_train.shape)\n",
    "print(y_train.shape)\n",
    "print(X_test.shape)\n",
    "print(y_test.shape)\n"
   ]
  },
  {
   "cell_type": "code",
   "execution_count": 23,
   "id": "c9f855d0",
   "metadata": {},
   "outputs": [
    {
     "name": "stdout",
     "output_type": "stream",
     "text": [
      "The accuracy of the Random Forest Classifier is: 83.31288343558282 %\n"
     ]
    }
   ],
   "source": [
    "rfc = RandomForestClassifier(n_estimators = 250)\n",
    "\n",
    "# train the classifier on training data\n",
    "rfc.fit(x_train, y_train)\n",
    "\n",
    "# make predictions on test data\n",
    "y_pred = rfc.predict(x_test)\n",
    "\n",
    " #the accuracy\n",
    "acc_rfc = rfc.score(x_test, y_test)\n",
    "print('The accuracy of the Random Forest Classifier is:', acc_rfc * 100, '%')"
   ]
  },
  {
   "cell_type": "markdown",
   "id": "c243cc50",
   "metadata": {},
   "source": [
    "# Evaluation"
   ]
  },
  {
   "cell_type": "code",
   "execution_count": 25,
   "id": "7fbdf0fd",
   "metadata": {},
   "outputs": [],
   "source": [
    "x_test[\"y_initial\"]=y_test\n",
    "x_test[\"y_pred\"]=y_pred"
   ]
  },
  {
   "cell_type": "code",
   "execution_count": 26,
   "id": "7c0ba97d",
   "metadata": {},
   "outputs": [
    {
     "data": {
      "text/plain": [
       "1    415\n",
       "0    400\n",
       "Name: y_initial, dtype: int64"
      ]
     },
     "execution_count": 26,
     "metadata": {},
     "output_type": "execute_result"
    }
   ],
   "source": [
    "x_test[\"y_initial\"].value_counts()"
   ]
  },
  {
   "cell_type": "code",
   "execution_count": 27,
   "id": "07e194cb",
   "metadata": {},
   "outputs": [
    {
     "data": {
      "text/plain": [
       "1    413\n",
       "0    402\n",
       "Name: y_pred, dtype: int64"
      ]
     },
     "execution_count": 27,
     "metadata": {},
     "output_type": "execute_result"
    }
   ],
   "source": [
    "x_test[\"y_pred\"].value_counts()"
   ]
  },
  {
   "cell_type": "code",
   "execution_count": 28,
   "id": "78a3a55f",
   "metadata": {},
   "outputs": [
    {
     "data": {
      "text/html": [
       "<div>\n",
       "<style scoped>\n",
       "    .dataframe tbody tr th:only-of-type {\n",
       "        vertical-align: middle;\n",
       "    }\n",
       "\n",
       "    .dataframe tbody tr th {\n",
       "        vertical-align: top;\n",
       "    }\n",
       "\n",
       "    .dataframe thead th {\n",
       "        text-align: right;\n",
       "    }\n",
       "</style>\n",
       "<table border=\"1\" class=\"dataframe\">\n",
       "  <thead>\n",
       "    <tr style=\"text-align: right;\">\n",
       "      <th>y_pred</th>\n",
       "      <th>0</th>\n",
       "      <th>1</th>\n",
       "    </tr>\n",
       "    <tr>\n",
       "      <th>y_initial</th>\n",
       "      <th></th>\n",
       "      <th></th>\n",
       "    </tr>\n",
       "  </thead>\n",
       "  <tbody>\n",
       "    <tr>\n",
       "      <th>0</th>\n",
       "      <td>333</td>\n",
       "      <td>67</td>\n",
       "    </tr>\n",
       "    <tr>\n",
       "      <th>1</th>\n",
       "      <td>69</td>\n",
       "      <td>346</td>\n",
       "    </tr>\n",
       "  </tbody>\n",
       "</table>\n",
       "</div>"
      ],
      "text/plain": [
       "y_pred       0    1\n",
       "y_initial          \n",
       "0          333   67\n",
       "1           69  346"
      ]
     },
     "execution_count": 28,
     "metadata": {},
     "output_type": "execute_result"
    }
   ],
   "source": [
    "# confusion matrix between initial and predicted\n",
    "pd.crosstab(x_test[\"y_initial\"],x_test[\"y_pred\"])"
   ]
  },
  {
   "cell_type": "code",
   "execution_count": 33,
   "id": "0d10ef87",
   "metadata": {},
   "outputs": [
    {
     "data": {
      "text/plain": [
       "array([[333,  67],\n",
       "       [ 69, 346]], dtype=int64)"
      ]
     },
     "execution_count": 33,
     "metadata": {},
     "output_type": "execute_result"
    }
   ],
   "source": [
    "\n",
    "cm = metrics.confusion_matrix(x_test[\"y_initial\"],x_test[\"y_pred\"])\n",
    "cm"
   ]
  },
  {
   "cell_type": "code",
   "execution_count": 53,
   "id": "0c1aef90",
   "metadata": {},
   "outputs": [
    {
     "data": {
      "image/png": "[encoded data removed]",
      "text/plain": [
       "<Figure size 864x576 with 1 Axes>"
      ]
     },
     "metadata": {
      "needs_background": "light"
     },
     "output_type": "display_data"
    }
   ],
   "source": [
    "plt.figure(figsize = (12,8))\n",
    "plt.clf()\n",
    "plt.imshow(cm, interpolation='nearest', cmap=plt.cm.RdPu) #plt.cm.Wistia\n",
    "classNames = ['Exited','Not exited']\n",
    "plt.title('Exited or Not Exited Confusion Matrix - Test Data')\n",
    "plt.ylabel('True label')\n",
    "plt.xlabel('Predicted label')\n",
    "tick_marks = np.arange(len(classNames))\n",
    "plt.xticks(tick_marks, classNames, rotation=45,)\n",
    "plt.yticks(tick_marks, classNames)\n",
    "s = [['TN','FP'], ['FN', 'TP']]\n",
    "for i in range(2):\n",
    "    for j in range(2):\n",
    "        plt.text(j,i, str(s[i][j])+\" = \"+str(cm[i][j]))\n",
    "plt.show()\n",
    "\n"
   ]
  },
  {
   "cell_type": "markdown",
   "id": "35c39ded",
   "metadata": {},
   "source": [
    "Comments: The confusion matrix tells us we a have total of 136 (69 + 67) misclassified data out of the 815 test points (in terms of: exited or not). Most of the values are well predicted."
   ]
  },
  {
   "cell_type": "code",
   "execution_count": 35,
   "id": "63039f95",
   "metadata": {},
   "outputs": [
    {
     "name": "stdout",
     "output_type": "stream",
     "text": [
      "0.8331288343558282\n"
     ]
    }
   ],
   "source": [
    "# Print accuracy of model\n",
    "\n",
    "# Coefficient between initial and predicted\n",
    "print(metrics.accuracy_score(x_test[\"y_initial\"],x_test[\"y_pred\"]))"
   ]
  },
  {
   "cell_type": "code",
   "execution_count": 36,
   "id": "fd5da50a",
   "metadata": {},
   "outputs": [
    {
     "name": "stdout",
     "output_type": "stream",
     "text": [
      "Precision value of model:  0.837772397094431\n"
     ]
    }
   ],
   "source": [
    "# Print precision value of model\n",
    "print('Precision value of model: ' ,metrics.precision_score(x_test[\"y_initial\"],x_test[\"y_pred\"]))"
   ]
  },
  {
   "cell_type": "code",
   "execution_count": 37,
   "id": "f31ee460",
   "metadata": {},
   "outputs": [
    {
     "name": "stdout",
     "output_type": "stream",
     "text": [
      "Recall:  0.8337349397590361\n"
     ]
    }
   ],
   "source": [
    "# Print recall value of model\n",
    "print('Recall: ', metrics.recall_score(x_test[\"y_initial\"],x_test[\"y_pred\"]))"
   ]
  },
  {
   "cell_type": "code",
   "execution_count": 38,
   "id": "912d3684",
   "metadata": {},
   "outputs": [
    {
     "name": "stdout",
     "output_type": "stream",
     "text": [
      "F1:  0.8357487922705313\n"
     ]
    }
   ],
   "source": [
    "# Print F1 value of model\n",
    "\n",
    "print('F1: ' , metrics.f1_score(x_test[\"y_initial\"],x_test[\"y_pred\"]))"
   ]
  },
  {
   "cell_type": "markdown",
   "id": "d804fb86",
   "metadata": {},
   "source": [
    "Comments: Due to its definition, the F1 score is bounded between 0 and 1, with 1 being perfect precision and recall, and 0 being the worst."
   ]
  },
  {
   "cell_type": "markdown",
   "id": "1dd181de",
   "metadata": {},
   "source": [
    "ROC AUC(Receiver Operating Characteristic Curve) from prediction scores."
   ]
  },
  {
   "cell_type": "code",
   "execution_count": 39,
   "id": "fd60dadf",
   "metadata": {},
   "outputs": [
    {
     "name": "stdout",
     "output_type": "stream",
     "text": [
      "ROC AUC score:  0.8331174698795181\n"
     ]
    }
   ],
   "source": [
    "# Print ROC AUC score\n",
    "print('ROC AUC score: ', metrics.roc_auc_score(x_test[\"y_initial\"],x_test[\"y_pred\"]))\n"
   ]
  },
  {
   "cell_type": "code",
   "execution_count": 43,
   "id": "0b53bdc6",
   "metadata": {},
   "outputs": [
    {
     "data": {
      "image/png": "[encoded data removed]",
      "text/plain": [
       "<Figure size 432x288 with 1 Axes>"
      ]
     },
     "metadata": {
      "needs_background": "light"
     },
     "output_type": "display_data"
    }
   ],
   "source": [
    "#Correlation between true positive and false positive rate\n",
    "\n",
    "fpr, tpr, thresholds = metrics.roc_curve(x_test[\"y_initial\"],x_test[\"y_pred\"])\n",
    "roc_auc = metrics.auc(fpr, tpr)\n",
    "display = metrics.RocCurveDisplay(fpr=fpr, tpr=tpr) # unique function to plot this relation\n",
    "display.plot()\n",
    "plt.show()\n"
   ]
  },
  {
   "cell_type": "markdown",
   "id": "6069a8e7",
   "metadata": {},
   "source": [
    "Comments: It's closer to 1, the model recognize more and less the 2 classes and every prediction it makes looks correct."
   ]
  }
 ],
 "metadata": {
  "kernelspec": {
   "display_name": "Python 3",
   "language": "python",
   "name": "python3"
  },
  "language_info": {
   "codemirror_mode": {
    "name": "ipython",
    "version": 3
   },
   "file_extension": ".py",
   "mimetype": "text/x-python",
   "name": "python",
   "nbconvert_exporter": "python",
   "pygments_lexer": "ipython3",
   "version": "3.8.8"
  }
 },
 "nbformat": 4,
 "nbformat_minor": 5
}
