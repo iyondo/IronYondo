{
 "cells": [
  {
   "cell_type": "markdown",
   "id": "f8fde49c",
   "metadata": {},
   "source": [
    "# Challenge 1. Write a Python program to print all permutations of the string \"Ironhack\""
   ]
  },
  {
   "cell_type": "code",
   "execution_count": 1,
   "id": "9cd50532",
   "metadata": {},
   "outputs": [],
   "source": [
    "import math"
   ]
  },
  {
   "cell_type": "code",
   "execution_count": 4,
   "id": "45a52661",
   "metadata": {},
   "outputs": [],
   "source": [
    "a = 'Ironhack'"
   ]
  },
  {
   "cell_type": "code",
   "execution_count": 2,
   "id": "c63f2ae9",
   "metadata": {},
   "outputs": [
    {
     "data": {
      "text/plain": [
       "40320"
      ]
     },
     "execution_count": 2,
     "metadata": {},
     "output_type": "execute_result"
    }
   ],
   "source": [
    "# a word with 8 letters, so we check the number of possibilities\n",
    "math.factorial(8)"
   ]
  },
  {
   "cell_type": "code",
   "execution_count": 5,
   "id": "529ca137",
   "metadata": {},
   "outputs": [],
   "source": [
    "from itertools import permutations\n",
    "permut = [''.join(p) for p in permutations(a)]\n"
   ]
  },
  {
   "cell_type": "code",
   "execution_count": 8,
   "id": "3ba9eb27",
   "metadata": {},
   "outputs": [],
   "source": [
    "# Print to see all the possibilities\n",
    "#permut"
   ]
  },
  {
   "cell_type": "code",
   "execution_count": 9,
   "id": "185070bc",
   "metadata": {},
   "outputs": [
    {
     "data": {
      "text/plain": [
       "40320"
      ]
     },
     "execution_count": 9,
     "metadata": {},
     "output_type": "execute_result"
    }
   ],
   "source": [
    "# Verification\n",
    "len(permut)"
   ]
  },
  {
   "cell_type": "markdown",
   "id": "d7f83937",
   "metadata": {},
   "source": [
    "# Challenge 2: How many ways can you choose 3 people from a group of 17 for making the group projects teams?"
   ]
  },
  {
   "cell_type": "code",
   "execution_count": 10,
   "id": "547809f9",
   "metadata": {},
   "outputs": [],
   "source": [
    "from itertools import combinations"
   ]
  },
  {
   "cell_type": "code",
   "execution_count": 13,
   "id": "e7afda3a",
   "metadata": {},
   "outputs": [],
   "source": [
    "combinator = combinations(list(range(17)), 3)"
   ]
  },
  {
   "cell_type": "code",
   "execution_count": 15,
   "id": "7f59464c",
   "metadata": {},
   "outputs": [
    {
     "data": {
      "text/plain": [
       "0"
      ]
     },
     "execution_count": 15,
     "metadata": {},
     "output_type": "execute_result"
    }
   ],
   "source": [
    "len(list(combinator))"
   ]
  },
  {
   "cell_type": "code",
   "execution_count": 16,
   "id": "49509be0",
   "metadata": {},
   "outputs": [
    {
     "data": {
      "text/plain": [
       "680.0"
      ]
     },
     "execution_count": 16,
     "metadata": {},
     "output_type": "execute_result"
    }
   ],
   "source": [
    "num = math.factorial(17)/(math.factorial(17-3)*math.factorial(3))\n",
    "num"
   ]
  },
  {
   "cell_type": "markdown",
   "id": "4ec3f863",
   "metadata": {},
   "source": [
    "# Challenge 5: Use intertools library to solve the following problem: Six books are lying on a table in front of you. How many ways can you arrange the books, considering both the left-to-right order of the books and whether they’re set with the front cover facing up or down?"
   ]
  },
  {
   "cell_type": "code",
   "execution_count": 17,
   "id": "a173cbb0",
   "metadata": {},
   "outputs": [
    {
     "data": {
      "text/plain": [
       "96909120.0"
      ]
     },
     "execution_count": 17,
     "metadata": {},
     "output_type": "execute_result"
    }
   ],
   "source": [
    "n=24\n",
    "m=6\n",
    "math.factorial(n)/(math.factorial(n-m))"
   ]
  },
  {
   "cell_type": "code",
   "execution_count": 18,
   "id": "9b789ce0",
   "metadata": {},
   "outputs": [
    {
     "data": {
      "text/plain": [
       "96909120"
      ]
     },
     "execution_count": 18,
     "metadata": {},
     "output_type": "execute_result"
    }
   ],
   "source": []
  }
 ],
 "metadata": {
  "kernelspec": {
   "display_name": "Python 3",
   "language": "python",
   "name": "python3"
  },
  "language_info": {
   "codemirror_mode": {
    "name": "ipython",
    "version": 3
   },
   "file_extension": ".py",
   "mimetype": "text/x-python",
   "name": "python",
   "nbconvert_exporter": "python",
   "pygments_lexer": "ipython3",
   "version": "3.8.8"
  }
 },
 "nbformat": 4,
 "nbformat_minor": 5
}
